{
 "cells": [
  {
   "cell_type": "code",
   "execution_count": 0,
   "metadata": {
    "application/vnd.databricks.v1+cell": {
     "cellMetadata": {
      "byteLimit": 2048000,
      "rowLimit": 10000
     },
     "inputWidgets": {},
     "nuid": "dfb63a0e-d7bb-45d7-8139-3ad0a83dc288",
     "showTitle": false,
     "title": ""
    }
   },
   "outputs": [],
   "source": [
    "from pyspark.sql.types import DateType, StructType, StructField, StringType, IntegerType, LongType, FloatType, BooleanType, ArrayType"
   ]
  },
  {
   "cell_type": "code",
   "execution_count": 0,
   "metadata": {
    "application/vnd.databricks.v1+cell": {
     "cellMetadata": {
      "byteLimit": 2048000,
      "rowLimit": 10000
     },
     "inputWidgets": {},
     "nuid": "8063fb01-c493-4d8d-ba3e-2fae46e064e4",
     "showTitle": false,
     "title": ""
    }
   },
   "outputs": [],
   "source": [
    "train_location = \"/FileStore/tables/train.csv\"\n",
    "real_test_location = \"/FileStore/tables/test-1.csv\"\n",
    "test_lab_location = \"/FileStore/tables/test_lab.csv\""
   ]
  },
  {
   "cell_type": "code",
   "execution_count": 0,
   "metadata": {
    "application/vnd.databricks.v1+cell": {
     "cellMetadata": {
      "byteLimit": 2048000,
      "rowLimit": 10000
     },
     "inputWidgets": {},
     "nuid": "7b874298-5e72-4041-a929-1c4c4471948e",
     "showTitle": false,
     "title": ""
    }
   },
   "outputs": [],
   "source": [
    "train_schema = StructType(fields=[\n",
    "    StructField(\"id\", IntegerType(), True),\n",
    "    StructField(\"host_id\", IntegerType(), True),\n",
    "    StructField(\"host_since\", StringType(), True),\n",
    "    StructField(\"host_response_time\", StringType(), True),\n",
    "    StructField(\"host_response_rate\", StringType(), True),\n",
    "    StructField(\"host_acceptance_rate\", StringType(), True),\n",
    "    StructField(\"host_is_superhost\", StringType(), True),\n",
    "    StructField(\"host_listings_count\", IntegerType(), True),\n",
    "    StructField(\"host_total_listings_count\", IntegerType(), True),\n",
    "    StructField(\"host_verifications\", StringType(), True),\n",
    "    StructField(\"host_has_profile_pic\", StringType(), True),\n",
    "    StructField(\"host_identity_verified\", StringType(), True),\n",
    "    StructField(\"latitude\", FloatType(), True),\n",
    "    StructField(\"longitude\", FloatType(), True),\n",
    "    StructField(\"property_type\", StringType(), True),\n",
    "    StructField(\"room_type\", StringType(), True),\n",
    "    StructField(\"accommodates\", IntegerType(), True),\n",
    "    StructField(\"bathrooms_text\", StringType(), True),\n",
    "    StructField(\"bedrooms\", IntegerType(), True),\n",
    "    StructField(\"beds\", IntegerType(), True),\n",
    "    StructField(\"amenities\", StringType(), True),\n",
    "    StructField(\"minimum_nights\", IntegerType(), True),\n",
    "    StructField(\"maximum_nights\", IntegerType(), True),\n",
    "    StructField(\"minimum_minimum_nights\", IntegerType(), True),\n",
    "    StructField(\"maximum_minimum_nights\", IntegerType(), True),\n",
    "    StructField(\"minimum_maximum_nights\", IntegerType(), True),\n",
    "    StructField(\"maximum_maximum_nights\", IntegerType(), True),\n",
    "    StructField(\"minimum_nights_avg_ntm\", IntegerType(), True),\n",
    "    StructField(\"maximum_nights_avg_ntm\", IntegerType(), True),\n",
    "    StructField(\"has_availability\", StringType(), True),\n",
    "    StructField(\"availability_30\", IntegerType(), True),\n",
    "    StructField(\"availability_60\", IntegerType(), True),\n",
    "    StructField(\"availability_90\", IntegerType(), True),\n",
    "    StructField(\"availability_365\", IntegerType(), True),\n",
    "    StructField(\"number_of_reviews\", IntegerType(), True),\n",
    "    StructField(\"number_of_reviews_ltm\", IntegerType(), True),\n",
    "    StructField(\"number_of_reviews_l30d\", IntegerType(), True),\n",
    "    StructField(\"first_review\", StringType(), True),\n",
    "    StructField(\"last_review\", StringType(), True),\n",
    "    StructField(\"review_scores_rating\", FloatType(), True),\n",
    "    StructField(\"review_scores_accuracy\", FloatType(), True),\n",
    "    StructField(\"review_scores_cleanliness\", FloatType(), True),\n",
    "    StructField(\"review_scores_checkin\", FloatType(), True),\n",
    "    StructField(\"review_scores_communication\", FloatType(), True),\n",
    "    StructField(\"review_scores_location\", FloatType(), True),\n",
    "    StructField(\"review_scores_value\", FloatType(), True),\n",
    "    StructField(\"license\", StringType(), True),\n",
    "    StructField(\"instant_bookable\", StringType(), True),\n",
    "    StructField(\"calculated_host_listings_count\", IntegerType(), True),\n",
    "    StructField(\"calculated_host_listings_count_entire_homes\", IntegerType(), True),\n",
    "    StructField(\"calculated_host_listings_count_private_rooms\", IntegerType(), True),\n",
    "    StructField(\"calculated_host_listings_count_shared_rooms\", IntegerType(), True),\n",
    "    StructField(\"reviews_per_month\", FloatType(), True),\n",
    "    StructField(\"expensive\", IntegerType(), True)\n",
    "])\n",
    "\n",
    "real_test_schema = StructType(fields=[\n",
    "    StructField(\"id\", IntegerType(), True),\n",
    "    StructField(\"host_id\", IntegerType(), True),\n",
    "    StructField(\"host_since\", StringType(), True),\n",
    "    StructField(\"host_response_time\", StringType(), True),\n",
    "    StructField(\"host_response_rate\", StringType(), True),\n",
    "    StructField(\"host_acceptance_rate\", StringType(), True),\n",
    "    StructField(\"host_is_superhost\", StringType(), True),\n",
    "    StructField(\"host_listings_count\", IntegerType(), True),\n",
    "    StructField(\"host_total_listings_count\", IntegerType(), True),\n",
    "    StructField(\"host_verifications\", StringType(), True),\n",
    "    StructField(\"host_has_profile_pic\", StringType(), True),\n",
    "    StructField(\"host_identity_verified\", StringType(), True),\n",
    "    StructField(\"latitude\", FloatType(), True),\n",
    "    StructField(\"longitude\", FloatType(), True),\n",
    "    StructField(\"property_type\", StringType(), True),\n",
    "    StructField(\"room_type\", StringType(), True),\n",
    "    StructField(\"accommodates\", IntegerType(), True),\n",
    "    StructField(\"bathrooms_text\", StringType(), True),\n",
    "    StructField(\"bedrooms\", IntegerType(), True),\n",
    "    StructField(\"beds\", IntegerType(), True),\n",
    "    StructField(\"amenities\", StringType(), True),\n",
    "    StructField(\"minimum_nights\", IntegerType(), True),\n",
    "    StructField(\"maximum_nights\", IntegerType(), True),\n",
    "    StructField(\"minimum_minimum_nights\", IntegerType(), True),\n",
    "    StructField(\"maximum_minimum_nights\", IntegerType(), True),\n",
    "    StructField(\"minimum_maximum_nights\", IntegerType(), True),\n",
    "    StructField(\"maximum_maximum_nights\", IntegerType(), True),\n",
    "    StructField(\"minimum_nights_avg_ntm\", IntegerType(), True),\n",
    "    StructField(\"maximum_nights_avg_ntm\", IntegerType(), True),\n",
    "    StructField(\"has_availability\", StringType(), True),\n",
    "    StructField(\"availability_30\", IntegerType(), True),\n",
    "    StructField(\"availability_60\", IntegerType(), True),\n",
    "    StructField(\"availability_90\", IntegerType(), True),\n",
    "    StructField(\"availability_365\", IntegerType(), True),\n",
    "    StructField(\"number_of_reviews\", IntegerType(), True),\n",
    "    StructField(\"number_of_reviews_ltm\", IntegerType(), True),\n",
    "    StructField(\"number_of_reviews_l30d\", IntegerType(), True),\n",
    "    StructField(\"first_review\", StringType(), True),\n",
    "    StructField(\"last_review\", StringType(), True),\n",
    "    StructField(\"review_scores_rating\", FloatType(), True),\n",
    "    StructField(\"review_scores_accuracy\", FloatType(), True),\n",
    "    StructField(\"review_scores_cleanliness\", FloatType(), True),\n",
    "    StructField(\"review_scores_checkin\", FloatType(), True),\n",
    "    StructField(\"review_scores_communication\", FloatType(), True),\n",
    "    StructField(\"review_scores_location\", FloatType(), True),\n",
    "    StructField(\"review_scores_value\", FloatType(), True),\n",
    "    StructField(\"license\", StringType(), True),\n",
    "    StructField(\"instant_bookable\", StringType(), True),\n",
    "    StructField(\"calculated_host_listings_count\", IntegerType(), True),\n",
    "    StructField(\"calculated_host_listings_count_entire_homes\", IntegerType(), True),\n",
    "    StructField(\"calculated_host_listings_count_private_rooms\", IntegerType(), True),\n",
    "    StructField(\"calculated_host_listings_count_shared_rooms\", IntegerType(), True),\n",
    "    StructField(\"reviews_per_month\", FloatType(), True)\n",
    "])\n",
    "\n",
    "test_lab_schema = StructType(fields=[\n",
    "    StructField(\"id\", IntegerType(), True),\n",
    "    StructField(\"expensive\", IntegerType(), True)\n",
    "])"
   ]
  },
  {
   "cell_type": "code",
   "execution_count": 0,
   "metadata": {
    "application/vnd.databricks.v1+cell": {
     "cellMetadata": {
      "byteLimit": 2048000,
      "rowLimit": 10000
     },
     "inputWidgets": {},
     "nuid": "7e7feeff-e2a3-4ab2-8b44-04b6a19143b7",
     "showTitle": false,
     "title": ""
    }
   },
   "outputs": [],
   "source": [
    "train_df = spark.read.option(\"header\", \"true\") \\\n",
    "               .option(\"delimiter\", \",\") \\\n",
    "               .option(\"escape\", '\"')\\\n",
    "               .schema(train_schema) \\\n",
    "               .csv(train_location)\n",
    "\n",
    "# test_df = spark.read.option(\"header\", \"true\") \\\n",
    "#                .option(\"delimiter\", \",\") \\\n",
    "#                .option(\"escape\", '\"')\\\n",
    "#                .schema(train_schema) \\\n",
    "#                .csv(train_location)\n",
    "\n",
    "real_test_df = spark.read.option(\"header\", \"true\") \\\n",
    "               .option(\"delimiter\", \",\") \\\n",
    "               .option(\"escape\", '\"')\\\n",
    "               .schema(real_test_schema) \\\n",
    "               .csv(real_test_location)\n",
    "\n",
    "test_lab_df = spark.read.option(\"header\", \"true\") \\\n",
    "               .option(\"delimiter\", \",\") \\\n",
    "               .option(\"escape\", '\"')\\\n",
    "               .schema(test_lab_schema) \\\n",
    "               .csv(test_lab_location)"
   ]
  },
  {
   "cell_type": "code",
   "execution_count": 0,
   "metadata": {
    "application/vnd.databricks.v1+cell": {
     "cellMetadata": {
      "byteLimit": 2048000,
      "rowLimit": 10000
     },
     "inputWidgets": {},
     "nuid": "a94f625f-4070-49e4-88d3-a2680871fb14",
     "showTitle": false,
     "title": ""
    }
   },
   "outputs": [],
   "source": [
    "pd_df = train_df.toPandas()\n",
    "train_df =pd_df.sample(frac=0.7, random_state=2023)\n",
    "test_df = pd_df.drop(train_df.index)\n",
    "train_df = spark.createDataFrame(train_df)\n",
    "test_df = spark.createDataFrame(test_df)"
   ]
  },
  {
   "cell_type": "code",
   "execution_count": 0,
   "metadata": {
    "application/vnd.databricks.v1+cell": {
     "cellMetadata": {
      "byteLimit": 2048000,
      "rowLimit": 10000
     },
     "inputWidgets": {},
     "nuid": "627ce9b0-ad10-4753-a9a8-632b6bb95849",
     "showTitle": false,
     "title": ""
    }
   },
   "outputs": [],
   "source": [
    "train_df.write.mode(\"overwrite\").format(\"delta\").saveAsTable(\"train_df\")\n",
    "test_df.write.mode(\"overwrite\").format(\"delta\").saveAsTable(\"test_df\")\n",
    "real_test_df.write.mode(\"overwrite\").format(\"delta\").saveAsTable(\"real_test_df\")\n",
    "test_lab_df.write.mode(\"overwrite\").format(\"delta\").saveAsTable(\"test_lab_df\")"
   ]
  }
 ],
 "metadata": {
  "application/vnd.databricks.v1+notebook": {
   "dashboards": [],
   "language": "python",
   "notebookMetadata": {
    "mostRecentlyExecutedCommandWithImplicitDF": {
     "commandId": 1526472333159332,
     "dataframes": [
      "_sqldf"
     ]
    },
    "pythonIndentUnit": 4
   },
   "notebookName": "data loading",
   "widgets": {}
  }
 },
 "nbformat": 4,
 "nbformat_minor": 0
}
