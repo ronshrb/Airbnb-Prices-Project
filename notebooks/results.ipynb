{
 "cells": [
  {
   "cell_type": "code",
   "execution_count": 0,
   "metadata": {
    "application/vnd.databricks.v1+cell": {
     "cellMetadata": {
      "byteLimit": 2048000,
      "rowLimit": 10000
     },
     "inputWidgets": {},
     "nuid": "79ea0fc0-bac4-4121-b500-9cbcefc04ff2",
     "showTitle": false,
     "title": ""
    }
   },
   "outputs": [],
   "source": [
    "%run \"/housing prices project/classes and functions\""
   ]
  },
  {
   "cell_type": "code",
   "execution_count": 0,
   "metadata": {
    "application/vnd.databricks.v1+cell": {
     "cellMetadata": {
      "byteLimit": 2048000,
      "rowLimit": 10000
     },
     "inputWidgets": {},
     "nuid": "12a2872e-0e87-4c8f-8d0e-7168c5ecdc1d",
     "showTitle": false,
     "title": ""
    }
   },
   "outputs": [],
   "source": [
    "train_df = spark.read.format(\"delta\").table(\"train_df\")\n",
    "test_df = spark.read.format(\"delta\").table(\"test_df\")"
   ]
  },
  {
   "cell_type": "markdown",
   "metadata": {
    "application/vnd.databricks.v1+cell": {
     "cellMetadata": {
      "byteLimit": 2048000,
      "rowLimit": 10000
     },
     "inputWidgets": {},
     "nuid": "ef5f64ff-0005-42e9-8109-2f326679efa2",
     "showTitle": false,
     "title": ""
    }
   },
   "source": [
    "### process train_df for analysis"
   ]
  },
  {
   "cell_type": "code",
   "execution_count": 0,
   "metadata": {
    "application/vnd.databricks.v1+cell": {
     "cellMetadata": {
      "byteLimit": 2048000,
      "rowLimit": 10000
     },
     "inputWidgets": {},
     "nuid": "c4b4412f-26d9-436b-8b20-c42478469783",
     "showTitle": false,
     "title": ""
    }
   },
   "outputs": [],
   "source": [
    "processer_train = preprocessing(train_df)\n",
    "train_for_analysis = processer_train.analysis_transform()"
   ]
  },
  {
   "cell_type": "code",
   "execution_count": 0,
   "metadata": {
    "application/vnd.databricks.v1+cell": {
     "cellMetadata": {
      "byteLimit": 2048000,
      "rowLimit": 10000
     },
     "inputWidgets": {},
     "nuid": "01693eaf-4bf9-4212-a366-8e5cc50baaa2",
     "showTitle": false,
     "title": ""
    }
   },
   "outputs": [],
   "source": [
    "train_for_analysis.write.mode(\"overwrite\").format(\"delta\").option(\"overwriteSchema\", \"true\").saveAsTable(\"train_for_analysis\")"
   ]
  },
  {
   "cell_type": "markdown",
   "metadata": {
    "application/vnd.databricks.v1+cell": {
     "cellMetadata": {
      "byteLimit": 2048000,
      "rowLimit": 10000
     },
     "inputWidgets": {},
     "nuid": "617008cb-6d46-4afa-83e6-121f96b1412c",
     "showTitle": false,
     "title": ""
    }
   },
   "source": [
    "### split dataframes into x and y"
   ]
  },
  {
   "cell_type": "code",
   "execution_count": 0,
   "metadata": {
    "application/vnd.databricks.v1+cell": {
     "cellMetadata": {
      "byteLimit": 2048000,
      "rowLimit": 10000
     },
     "inputWidgets": {},
     "nuid": "ec81c2e0-2aac-4bf7-8c9e-9f494b8bfc33",
     "showTitle": false,
     "title": "df"
    }
   },
   "outputs": [],
   "source": [
    "train_for_analysis_x = train_for_analysis.drop(\"expensive\")\n",
    "train_y = train_for_analysis.select(\"expensive\")\n",
    "test_df_x = test_df.drop(\"expensive\")\n",
    "test_y = test_df.select(\"expensive\")"
   ]
  },
  {
   "cell_type": "markdown",
   "metadata": {
    "application/vnd.databricks.v1+cell": {
     "cellMetadata": {
      "byteLimit": 2048000,
      "rowLimit": 10000
     },
     "inputWidgets": {},
     "nuid": "cbf70b7a-4ac2-4b10-bc85-290443638101",
     "showTitle": false,
     "title": ""
    }
   },
   "source": [
    "### final process of train_df"
   ]
  },
  {
   "cell_type": "code",
   "execution_count": 0,
   "metadata": {
    "application/vnd.databricks.v1+cell": {
     "cellMetadata": {
      "byteLimit": 2048000,
      "rowLimit": 10000
     },
     "inputWidgets": {},
     "nuid": "2004745b-16df-455a-be87-390e5c284676",
     "showTitle": false,
     "title": ""
    }
   },
   "outputs": [],
   "source": [
    "processer_train = preprocessing(train_for_analysis_x)\n",
    "processed_train = processer_train.train_transform()"
   ]
  },
  {
   "cell_type": "code",
   "execution_count": 0,
   "metadata": {
    "application/vnd.databricks.v1+cell": {
     "cellMetadata": {
      "byteLimit": 2048000,
      "rowLimit": 10000
     },
     "inputWidgets": {},
     "nuid": "4c8c9b21-ac53-461e-a79f-c92576fabedb",
     "showTitle": false,
     "title": ""
    }
   },
   "outputs": [],
   "source": [
    "processed_train.write.mode(\"overwrite\").format(\"delta\").option(\"overwriteSchema\", \"true\").saveAsTable(\"processed_train\")"
   ]
  },
  {
   "cell_type": "markdown",
   "metadata": {
    "application/vnd.databricks.v1+cell": {
     "cellMetadata": {
      "byteLimit": 2048000,
      "rowLimit": 10000
     },
     "inputWidgets": {},
     "nuid": "b419f06b-ecc3-4622-82d4-b966a741d9a3",
     "showTitle": false,
     "title": ""
    }
   },
   "source": [
    "### final process of test_df"
   ]
  },
  {
   "cell_type": "code",
   "execution_count": 0,
   "metadata": {
    "application/vnd.databricks.v1+cell": {
     "cellMetadata": {
      "byteLimit": 2048000,
      "rowLimit": 10000
     },
     "inputWidgets": {},
     "nuid": "f913f3a9-e64e-418f-8659-6ca5bbc5a647",
     "showTitle": false,
     "title": ""
    }
   },
   "outputs": [],
   "source": [
    "processer_test = preprocessing(test_df_x)\n",
    "processed_test = processer_test.analysis_transform()\n",
    "processer_test = preprocessing(processed_test)\n",
    "processed_test = processer_test.test_transform()\n"
   ]
  },
  {
   "cell_type": "code",
   "execution_count": 0,
   "metadata": {
    "application/vnd.databricks.v1+cell": {
     "cellMetadata": {
      "byteLimit": 2048000,
      "rowLimit": 10000
     },
     "inputWidgets": {},
     "nuid": "a1273379-4962-410c-9ddb-033fb14ab1b6",
     "showTitle": false,
     "title": ""
    }
   },
   "outputs": [],
   "source": [
    "processed_test.write.mode(\"overwrite\").format(\"delta\").option(\"overwriteSchema\", \"true\").saveAsTable(\"processed_test\")"
   ]
  },
  {
   "cell_type": "code",
   "execution_count": 0,
   "metadata": {
    "application/vnd.databricks.v1+cell": {
     "cellMetadata": {
      "byteLimit": 2048000,
      "rowLimit": 10000
     },
     "inputWidgets": {},
     "nuid": "55f117ed-80e1-4858-8b9c-2f99a533a3b9",
     "showTitle": false,
     "title": ""
    }
   },
   "outputs": [],
   "source": [
    "X_train = processed_train.toPandas()\n",
    "X_test = processed_test.toPandas()\n",
    "y_train = train_y.toPandas()\n",
    "y_test = test_y.toPandas()"
   ]
  },
  {
   "cell_type": "code",
   "execution_count": 0,
   "metadata": {
    "application/vnd.databricks.v1+cell": {
     "cellMetadata": {
      "byteLimit": 2048000,
      "rowLimit": 10000
     },
     "inputWidgets": {},
     "nuid": "d559f03e-35f4-437e-a24b-63f09fa0ed80",
     "showTitle": false,
     "title": ""
    }
   },
   "outputs": [],
   "source": [
    "test_df_x = test_df_x.toPandas()\n",
    "train_df = train_df.toPandas()\n"
   ]
  },
  {
   "cell_type": "markdown",
   "metadata": {
    "application/vnd.databricks.v1+cell": {
     "cellMetadata": {
      "byteLimit": 2048000,
      "rowLimit": 10000
     },
     "inputWidgets": {},
     "nuid": "acbb581f-e4ac-4c56-9ab6-4c295d311952",
     "showTitle": false,
     "title": ""
    }
   },
   "source": [
    "### Data balancing"
   ]
  },
  {
   "cell_type": "code",
   "execution_count": 0,
   "metadata": {
    "application/vnd.databricks.v1+cell": {
     "cellMetadata": {
      "byteLimit": 2048000,
      "rowLimit": 10000
     },
     "inputWidgets": {},
     "nuid": "542ed48c-072c-4dee-87a3-81230d57aaff",
     "showTitle": false,
     "title": ""
    }
   },
   "outputs": [],
   "source": [
    "from imblearn.over_sampling import SMOTE\n",
    "# adding more rows with expensive = 0\n",
    "os = SMOTE(random_state=2023)\n",
    "over = SMOTE(sampling_strategy=0.75)\n",
    "X, y = over.fit_resample(X_train, y_train)"
   ]
  },
  {
   "cell_type": "markdown",
   "metadata": {
    "application/vnd.databricks.v1+cell": {
     "cellMetadata": {
      "byteLimit": 2048000,
      "rowLimit": 10000
     },
     "inputWidgets": {},
     "nuid": "d3e4ae34-4959-47ab-8f88-38b48cd78229",
     "showTitle": false,
     "title": ""
    }
   },
   "source": [
    "### Data Scaling"
   ]
  },
  {
   "cell_type": "code",
   "execution_count": 0,
   "metadata": {
    "application/vnd.databricks.v1+cell": {
     "cellMetadata": {
      "byteLimit": 2048000,
      "rowLimit": 10000
     },
     "inputWidgets": {},
     "nuid": "e35615d9-cb19-4d07-aa65-9ae911d5096c",
     "showTitle": false,
     "title": ""
    }
   },
   "outputs": [],
   "source": [
    "from sklearn.preprocessing import StandardScaler\n",
    "\n",
    "scaler = StandardScaler()\n",
    "X_scaled = scaler.fit_transform(X)\n",
    "X_test_scaled = scaler.fit_transform(X_test)"
   ]
  },
  {
   "cell_type": "code",
   "execution_count": 0,
   "metadata": {
    "application/vnd.databricks.v1+cell": {
     "cellMetadata": {
      "byteLimit": 2048000,
      "rowLimit": 10000
     },
     "inputWidgets": {},
     "nuid": "aaf070ec-a277-44dc-8c9a-9faf70808d91",
     "showTitle": false,
     "title": ""
    }
   },
   "outputs": [],
   "source": [
    "y = np.ravel(y)"
   ]
  },
  {
   "cell_type": "markdown",
   "metadata": {
    "application/vnd.databricks.v1+cell": {
     "cellMetadata": {
      "byteLimit": 2048000,
      "rowLimit": 10000
     },
     "inputWidgets": {},
     "nuid": "92cd0ca9-9feb-4083-82b8-2d7125b57f66",
     "showTitle": false,
     "title": ""
    }
   },
   "source": [
    "### sklearn's logistic regression results"
   ]
  },
  {
   "cell_type": "code",
   "execution_count": 0,
   "metadata": {
    "application/vnd.databricks.v1+cell": {
     "cellMetadata": {
      "byteLimit": 2048000,
      "rowLimit": 10000
     },
     "inputWidgets": {},
     "nuid": "c3d787e6-a34a-4e10-8805-36c7165f46a1",
     "showTitle": false,
     "title": ""
    }
   },
   "outputs": [
    {
     "output_type": "stream",
     "name": "stdout",
     "output_type": "stream",
     "text": [
      "accuracy Score: 0.77\nprecision Score: 0.91\nrecall Score: 0.76\nf1 Score: 0.83\nAUC-ROC Score: 0.78\n"
     ]
    }
   ],
   "source": [
    "from sklearn.linear_model import LogisticRegression\n",
    "from sklearn import metrics\n",
    "from sklearn.metrics import roc_auc_score\n",
    "\n",
    "logreg = LogisticRegression(max_iter=1000)\n",
    "logreg.fit(X_scaled, y)\n",
    "y_pred = logreg.predict(X_test_scaled)\n",
    "\n",
    "accuracy = metrics.accuracy_score(y_test, y_pred)\n",
    "precision = metrics.precision_score(y_test, y_pred)\n",
    "recall = metrics.recall_score(y_test, y_pred)\n",
    "f1_score = metrics.f1_score(y_test, y_pred)\n",
    "auc_roc = roc_auc_score(y_test, y_pred)\n",
    "\n",
    "print(f\"accuracy Score: {accuracy:.2f}\")\n",
    "print(f\"precision Score: {precision:.2f}\")\n",
    "print(f\"recall Score: {recall:.2f}\")\n",
    "print(f\"f1 Score: {f1_score:.2f}\")\n",
    "print(f\"AUC-ROC Score: {auc_roc:.2f}\")\n",
    "\n"
   ]
  },
  {
   "cell_type": "markdown",
   "metadata": {
    "application/vnd.databricks.v1+cell": {
     "cellMetadata": {
      "byteLimit": 2048000,
      "rowLimit": 10000
     },
     "inputWidgets": {},
     "nuid": "0ddd4388-50d6-4f85-88ca-e07206b8cc8f",
     "showTitle": false,
     "title": ""
    }
   },
   "source": [
    "### My logistic regression results"
   ]
  },
  {
   "cell_type": "code",
   "execution_count": 0,
   "metadata": {
    "application/vnd.databricks.v1+cell": {
     "cellMetadata": {
      "byteLimit": 2048000,
      "rowLimit": 10000
     },
     "inputWidgets": {},
     "nuid": "fcfc5fa1-4e1e-4556-b0fd-ef1ed5cb14bc",
     "showTitle": false,
     "title": ""
    }
   },
   "outputs": [
    {
     "output_type": "stream",
     "name": "stdout",
     "output_type": "stream",
     "text": [
      "accuracy Score: 0.69\nprecision Score: 0.89\nrecall Score: 0.66\nf1 Score: 0.76\nAUC-ROC Score: 0.72\n"
     ]
    }
   ],
   "source": [
    "\n",
    "logreg = MyLogisticRegression()\n",
    "logreg.fit(X_scaled, y)\n",
    "y_pred = logreg.predict(X_test_scaled, threshold = 0.5)\n",
    "\n",
    "accuracy = metrics.accuracy_score(y_test, y_pred)\n",
    "precision = metrics.precision_score(y_test, y_pred)\n",
    "recall = metrics.recall_score(y_test, y_pred)\n",
    "f1_score = metrics.f1_score(y_test, y_pred)\n",
    "auc_roc = roc_auc_score(y_test, y_pred)\n",
    "\n",
    "print(f\"accuracy Score: {accuracy:.2f}\")\n",
    "print(f\"precision Score: {precision:.2f}\")\n",
    "print(f\"recall Score: {recall:.2f}\")\n",
    "print(f\"f1 Score: {f1_score:.2f}\")\n",
    "print(f\"AUC-ROC Score: {auc_roc:.2f}\")\n"
   ]
  }
 ],
 "metadata": {
  "application/vnd.databricks.v1+notebook": {
   "dashboards": [],
   "language": "python",
   "notebookMetadata": {
    "mostRecentlyExecutedCommandWithImplicitDF": {
     "commandId": 4429374883584572,
     "dataframes": [
      "_sqldf"
     ]
    },
    "pythonIndentUnit": 4
   },
   "notebookName": "results",
   "widgets": {}
  }
 },
 "nbformat": 4,
 "nbformat_minor": 0
}
